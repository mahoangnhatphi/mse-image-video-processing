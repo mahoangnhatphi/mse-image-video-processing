{
 "cells": [
  {
   "cell_type": "code",
   "execution_count": null,
   "id": "96fa9bd0",
   "metadata": {},
   "outputs": [],
   "source": [
    "from PIL import Image \n",
    "import PIL \n",
    "  \n",
    "# creating a image object (main image) \n",
    "im1 = Image.open(r\"C:\\Users\\System-Pc\\Desktop\\flower1.jpg\") \n",
    "  \n",
    "# quantize a image \n",
    "im1 = im1.quantize(256) \n",
    "  \n",
    "# to show specified image \n",
    "im1.show() "
   ]
  }
 ],
 "metadata": {
  "kernelspec": {
   "display_name": "Python 3 (ipykernel)",
   "language": "python",
   "name": "python3"
  },
  "language_info": {
   "codemirror_mode": {
    "name": "ipython",
    "version": 3
   },
   "file_extension": ".py",
   "mimetype": "text/x-python",
   "name": "python",
   "nbconvert_exporter": "python",
   "pygments_lexer": "ipython3",
   "version": "3.10.9"
  }
 },
 "nbformat": 4,
 "nbformat_minor": 5
}
